{
 "cells": [
  {
   "cell_type": "code",
   "execution_count": 1,
   "metadata": {},
   "outputs": [
    {
     "data": {
      "application/javascript": "if (typeof IPython !== 'undefined') { IPython.OutputArea.prototype._should_scroll = function(lines){ return false; }}",
      "text/plain": [
       "<IPython.core.display.Javascript object>"
      ]
     },
     "metadata": {},
     "output_type": "display_data"
    }
   ],
   "source": [
    "import pyam\n",
    "import math\n",
    "import numpy as np\n",
    "import os\n",
    "import pandas as pd\n",
    "import plotly.express as px\n",
    "from plotly.subplots import make_subplots\n",
    "import plotly.graph_objects as go\n",
    "import re\n",
    "from typing import Dict, List, Optional"
   ]
  },
  {
   "cell_type": "markdown",
   "metadata": {},
   "source": [
    "### Define path of directory to write out plots"
   ]
  },
  {
   "cell_type": "code",
   "execution_count": null,
   "metadata": {},
   "outputs": [],
   "source": [
    "path_dic = '/Users/haukeh/Library/CloudStorage/OneDrive-KTH/box_files/KTHwork/paper/PhD3-Diagnostics on OSeMBE/plots/240111'"
   ]
  },
  {
   "cell_type": "code",
   "execution_count": 2,
   "metadata": {},
   "outputs": [],
   "source": [
    "wp1_models = [\n",
    "    'IMAGE 3.2',\n",
    "    'MESSAGEix-GLOBIOM 1.2', \n",
    "    'PROMETHEUS 1.2',\n",
    "    'REMIND 2.1',  \n",
    "    'TIAM-ECN 1.2',  \n",
    "    'WITCH 5.1',\n",
    "    'Euro-Calliope 2.0',\n",
    "    'LIMES 2.38',\n",
    "    'MEESA v1.2',\n",
    "    'OSeMBE v1.0.0', \n",
    "    'PRIMES 2022'\n",
    "    ]\n",
    "license_status = {\n",
    "    'open-source': ['MESSAGEix-GLOBIOM 1.2', 'WITCH 5.1', 'Euro-Calliope 2.0', 'OSeMBE v1.0.0'],\n",
    "    'proprietary': ['IMAGE 3.2', 'PROMETHEUS 1.2', 'REMIND 2.1', 'TIAM-ECN 1.2', 'LIMES 2.38', 'MEESA v1.2', 'PRIMES 2022']\n",
    "}\n",
    "model_type = {\n",
    "    'IAM': ['IMAGE 3.2', 'MESSAGEix-GLOBIOM 1.2', 'PROMETHEUS 1.2', 'REMIND 2.1', 'TIAM-ECN 1.2',  'WITCH 5.1' ],\n",
    "    'ESM': ['Euro-Calliope 2.0', 'OSeMBE v1.0.0', 'LIMES 2.38', 'MEESA v1.2', 'PRIMES 2022']\n",
    "}\n",
    "diag_scenarios = [\n",
    "    'DIAG-Base', \n",
    "    'DIAG-NPI',\n",
    "    'DIAG-C400-lin',\n",
    "    'DIAG-C80-gr5',\n",
    "    'DIAG-C0to80-gr5',\n",
    "    'DIAG-NZero',\n",
    "    'DIAG-C400-lin-LimBio',\n",
    "    'DIAG-C400-lin-LimCCS',\n",
    "    'DIAG-C400-lin-LimNuclear',\n",
    "    'DIAG-C400-lin-HighVRE',\n",
    "    'DIAG-C400-lin-HighElectrification',\n",
    "    'DIAG-C400-lin-HighH2',\n",
    "    'DIAG-C400-lin-ResidualFossil',\n",
    "    'DIAG-C400-lin-HighEff'\n",
    "    ]\n",
    "interest_scenarios = [\n",
    "    'DIAG-C400-lin'\n",
    "]\n",
    "common_variables = [\n",
    "    'Capacity|Electricity|Nuclear',\n",
    "    'Capacity|Electricity|Solar|CSP',\n",
    "    'Capacity|Electricity|Solar|PV',\n",
    "    'Capacity|Electricity|Solar|PV|Rooftop',\n",
    "    'Capacity|Electricity|Solar|PV|Utility',\n",
    "    'Capacity|Electricity|Wind',\n",
    "    'Capacity|Electricity|Wind|Offshore',\n",
    "    'Capacity|Electricity|Wind|Onshore',\n",
    "    'Capital Cost|Electricity|Nuclear',\n",
    "    'Capital Cost|Electricity|Solar|CSP',\n",
    "    'Capital Cost|Electricity|Solar|PV',\n",
    "    'Capital Cost|Electricity|Solar|PV|Utility',\n",
    "    'Capital Cost|Electricity|Wind|Offshore',\n",
    "    'Capital Cost|Electricity|Wind|Onshore',\n",
    "    'Capital Cost|Hydrogen|Electricity',\n",
    "    'Efficiency|Hydrogen|Electricity',\n",
    "    'Emissions|CO2|Energy|Supply|Electricity',\n",
    "    'Emissions|CH4|Energy|Supply',\n",
    "    'Final Energy',\n",
    "    'Final Energy|Electricity',\n",
    "    'Final Energy|Commercial',\n",
    "    'Final Energy|Commercial|Electricity',\n",
    "    'Final Energy|Heat',\n",
    "    'Final Energy|Residential',\n",
    "    'Final Energy|Residential|Electricity',\n",
    "    'Final Energy|Residential and Commercial',\n",
    "    'Final Energy|Residential and Commercial|Electricity',\n",
    "    'Final Energy|Transportation',\n",
    "    'Final Energy|Transportation|Electricity',\n",
    "    'Lifetime|Electricity|Nuclear',\n",
    "    'Primary Energy|Biomass|Electricity',\n",
    "    'Primary Energy|Coal|Electricity',\n",
    "    'Primary Energy|Gas|Electricity',\n",
    "    'Primary Energy|Nuclear',\n",
    "    'Primary Energy|Oil|Electricity',\n",
    "    'Primary Energy|Solar',\n",
    "    'Primary Energy|Wind|Offshore',\n",
    "    'Primary Energy|Wind|Onshore',\n",
    "    'Secondary Energy|Electricity',\n",
    "    'Secondary Energy|Electricity|Biomass',\n",
    "    'Secondary Energy|Electricity|Coal',\n",
    "    'Secondary Energy|Electricity|Gas',\n",
    "    'Secondary Energy|Electricity|Geothermal',\n",
    "    'Secondary Energy|Electricity|Hydro',\n",
    "    'Secondary Energy|Electricity|Nuclear',\n",
    "    'Secondary Energy|Electricity|Ocean',\n",
    "    'Secondary Energy|Electricity|Oil',\n",
    "    'Secondary Energy|Electricity|Solar',\n",
    "    'Secondary Energy|Electricity|Solar|PV',\n",
    "    'Secondary Energy|Electricity|Solar|CSP',\n",
    "    'Secondary Energy|Electricity|Wind',\n",
    "    'Secondary Energy|Electricity|Wind|Offshore',\n",
    "    'Secondary Energy|Electricity|Wind|Onshore',\n",
    "    'Secondary Energy|Heat',\n",
    "    'Secondary Energy|Hydrogen',\n",
    "    'Secondary Energy|Hydrogen|Electricity',\n",
    "]"
   ]
  },
  {
   "cell_type": "code",
   "execution_count": 3,
   "metadata": {},
   "outputs": [],
   "source": [
    "# Mapping by model regions\n",
    "dic_model_reg = {\n",
    "    'Two Regions': {\n",
    "        'Western Europe': {\n",
    "            'Euro-Calliope 2.0': ['Austria', 'Belgium', 'Denmark', 'Finland', 'France', 'Germany', 'Greece', 'Ireland', 'Italy', 'Luxembourg', 'Netherlands', 'Portugal', 'Spain', 'Sweden', 'United Kingdom'],\n",
    "            'IMAGE 3.2': ['WEU'],\n",
    "            'LIMES 2.38': ['Austria', 'Belgium', 'Denmark', 'Finland', 'France', 'Germany', 'Greece', 'Ireland', 'Italy', 'Luxembourg', 'Malta', 'Netherlands', 'Portugal', 'Spain', 'Sweden', 'United Kingdom'],\n",
    "            'MEESA v1.2': ['ENC', 'ESC', 'ESW', 'EWN', 'UKI', 'DEU', 'FRA'],\n",
    "            'MESSAGEix-GLOBIOM 1.2': ['WEU'],\n",
    "            'OSeMBE v1.0.0': ['AUT', 'BEL', 'DEU', 'DNK', 'ESP', 'FIN', 'FRA', 'GBR', 'GRC', 'IRL', 'ITA', 'LUX', 'MLT', 'NLD', 'PRT', 'SWE'],\n",
    "            'PRIMES 2022': ['Scandinavia (IP)', 'Southern Europe (IP)', 'Iberian Peninsula (IP)', 'Central Europe (IP)', 'United Kingdom & Ireland (IP)'],\n",
    "            'PROMETHEUS 1.2': ['Western Europe'],\n",
    "            'REMIND 2.1':['ENC','ESC','ESW','EWN','DEU', 'FRA', 'UKI'],\n",
    "            'TIAM-ECN 1.2': ['WEU'],\n",
    "            'WITCH 5.1':['AUT','BNL', 'DEU', 'ESP', 'FRA', 'GBR', 'GRC', 'IRL', 'ITA', 'NORTHEU', 'PRT', 'SWE']\n",
    "        },\n",
    "        'Eastern Europe': {\n",
    "            'Euro-Calliope 2.0': ['Bulgaria', 'Croatia', 'Cyprus', 'Czech Republic', 'Estonia', 'Hungary', 'Latvia', 'Lithuania', 'Poland', 'Romania', 'Slovakia', 'Slovenia'],\n",
    "            'IMAGE 3.2': ['CEU'],\n",
    "            'LIMES 2.38': ['Bulgaria', 'Croatia', 'Cyprus', 'Czech Republic', 'Estonia', 'Hungary', 'Latvia', 'Lithuania', 'Poland', 'Romania', 'Slovakia', 'Slovenia'],\n",
    "            'MEESA v1.2': ['ECE', 'ECS'],\n",
    "            'MESSAGEix-GLOBIOM 1.2': ['EEU'],\n",
    "            'OSeMBE v1.0.0': ['BGR', 'CYP', 'CZE', 'EST', 'HRV', 'HUN', 'LTU', 'LVA', 'POL', 'ROU', 'SVK', 'SVN'],\n",
    "            'PRIMES 2022': ['Eastern Europe (IP)', 'South-East Europe (IP)'],\n",
    "            'PROMETHEUS 1.2': ['Central Europe'],\n",
    "            'REMIND 2.1': ['ECE','ECS'],\n",
    "            'TIAM-ECN 1.2': ['EEU'],\n",
    "            'WITCH 5.1': ['CZE', 'EASTEU', 'POL', 'ROU']\n",
    "        }\n",
    "    },\n",
    "    'Nine Regions': {\n",
    "        'United Kingdom and Ireland': {\n",
    "            'Euro-Calliope 2.0': ['Ireland', 'United Kingdom'],\n",
    "            'LIMES 2.38': ['Ireland', 'United Kingdom'],\n",
    "            'MEESA v1.2': ['UKI'],\n",
    "            'OSeMBE v1.0.0': ['IRL', 'GBR'],\n",
    "            'PRIMES 2022': ['United Kingdom & Ireland (IP)'],\n",
    "            'REMIND 2.1': ['UKI'],\n",
    "            'WITCH 5.1': ['IRL', 'GBR'] \n",
    "        },\n",
    "        'Europe West North': {\n",
    "            'Euro-Calliope 2.0': ['Austria', 'Belgium', 'Luxembourg', 'Netherlands'],\n",
    "            'LIMES 2.38': ['Austria', 'Belgium', 'Luxembourg', 'Netherlands'],\n",
    "            'MEESA v1.2': ['EWN'],\n",
    "            'OSeMBE v1.0.0': ['AUT', 'BEL', 'LUX', 'NLD'],\n",
    "            'REMIND 2.1': ['EWN'],\n",
    "            'WITCH 5.1': ['AUT', 'BNL'] \n",
    "        },\n",
    "        'Europe North Central': {\n",
    "            'Euro-Calliope 2.0': ['Denmark', 'Finland', 'Sweden'],\n",
    "            'LIMES 2.38': ['Denmark', 'Finland', 'Sweden'],\n",
    "            'MEESA v1.2': ['ENC'],\n",
    "            'OSeMBE v1.0.0': ['DNK', 'FIN', 'SWE'],\n",
    "            'PRIMES 2022': ['Scandinavia (IP)'],\n",
    "            'REMIND 2.1': ['ENC'],\n",
    "            'WITCH 5.1': ['NORTHEU', 'SWE'] \n",
    "        },\n",
    "        'France': {\n",
    "            'Euro-Calliope 2.0': ['France'],\n",
    "            'LIMES 2.38': ['France'],\n",
    "            'MEESA v1.2': ['FRA'],\n",
    "            'OSeMBE v1.0.0':['FRA'],\n",
    "            'REMIND 2.1': ['FRA'],\n",
    "            'WITCH 5.1': ['FRA']\n",
    "        },\n",
    "        'Germany': {\n",
    "            'Euro-Calliope 2.0': ['Germany'],\n",
    "            'LIMES 2.38': ['Germany'],\n",
    "            'MEESA v1.2': ['DEU'],\n",
    "            'OSeMBE v1.0.0':['DEU'],\n",
    "            'REMIND 2.1': ['DEU'],\n",
    "            'WITCH 5.1': ['DEU']\n",
    "        },\n",
    "        'Europe Central East': {\n",
    "            'Euro-Calliope 2.0': ['Czech Republic', 'Estonia',  'Latvia', 'Lithuania', 'Poland', 'Slovakia'],\n",
    "            'LIMES 2.38': ['Czech Republic', 'Estonia',  'Latvia', 'Lithuania', 'Poland', 'Slovakia'],\n",
    "            'MEESA v1.2': ['ECE'],\n",
    "            'OSeMBE v1.0.0': ['CZE', 'EST', 'LTU', 'LVA', 'POL', 'SVK'],\n",
    "            'PRIMES 2022': ['Eastern Europe (IP)'],\n",
    "            'REMIND 2.1': ['ECE'],\n",
    "            'WITCH 5.1': ['CZE', 'EASTEU', 'POL']\n",
    "        },\n",
    "        'Europe South West': {\n",
    "            'Euro-Calliope 2.0': ['Portugal', 'Spain'],\n",
    "            'LIMES 2.38': ['Portugal', 'Spain'],\n",
    "            'MEESA v1.2': ['ESW'],\n",
    "            'OSeMBE v1.0.0': ['ESP', 'PRT'],\n",
    "            'REMIND 2.1': ['ESW'],\n",
    "            'WITCH 5.1': ['ESP', 'PRT'] \n",
    "        },\n",
    "        'Europe South Central': {\n",
    "            'Euro-Calliope 2.0': ['Cyprus', 'Greece', 'Italy'],\n",
    "            'LIMES 2.38': ['Cyprus', 'Greece', 'Italy', 'Malta'],\n",
    "            'MEESA v1.2': ['ESC'],\n",
    "            'OSeMBE v1.0.0': ['CYP', 'GRC', 'ITA', 'MLT'],\n",
    "            'PRIMES 2022': ['Southern Europe (IP)'],\n",
    "            'REMIND 2.1': ['ESC'],\n",
    "            'WITCH 5.1': ['GRC','ITA'] \n",
    "        },\n",
    "        'Europe Central South': {\n",
    "            'Euro-Calliope 2.0': ['Bulgaria', 'Croatia', 'Hungary', 'Romania', 'Slovenia'],\n",
    "            'LIMES 2.38': ['Bulgaria', 'Croatia', 'Hungary', 'Romania', 'Slovenia'],\n",
    "            'MEESA v1.2': ['ECS'],\n",
    "            'OSeMBE v1.0.0': ['BGR', 'HRV', 'HUN', 'ROU', 'SVN'],\n",
    "            'PRIMES 2022': ['South-East Europe (IP)'],\n",
    "            'REMIND 2.1': ['ECS'],\n",
    "            'WITCH 5.1': ['EASTEU', 'ROU']\n",
    "        }\n",
    "    },\n",
    "    'Countries':{\n",
    "        'Austria': {\n",
    "            'Euro-Calliope 2.0': ['Austria'],\n",
    "            'LIMES 2.38': ['Austria'],\n",
    "            'OSeMBE v1.0.0': ['AUT'],\n",
    "            'WITCH 5.1': ['AUT']\n",
    "        },\n",
    "        'Belgium': {\n",
    "            'Euro-Calliope 2.0': ['Belgium'],\n",
    "            'LIMES 2.38': ['Belgium'],\n",
    "            'OSeMBE v1.0.0':['BEL']\n",
    "        },\n",
    "        'Bulgaria': {\n",
    "            'Euro-Calliope 2.0': ['Bulgaria'],\n",
    "            'LIMES 2.38': ['Bulgaria'],\n",
    "            'OSeMBE v1.0.0':['BGR']\n",
    "        },\n",
    "        'Croatia': {\n",
    "            'Euro-Calliope 2.0': ['Croatia'],\n",
    "            'LIMES 2.38': ['Croatia'],\n",
    "            'OSeMBE v1.0.0':['HRV']\n",
    "        },\n",
    "        'Cyprus': {\n",
    "            'Euro-Calliope 2.0': ['Cyprus'],\n",
    "            'LIMES 2.38': ['Cyprus'],\n",
    "            'OSeMBE v1.0.0':['CYP']\n",
    "        },\n",
    "        'Czech Republic': {\n",
    "            'Euro-Calliope 2.0': ['Czech Republic'],\n",
    "            'LIMES 2.38': ['Czech Republic'],\n",
    "            'OSeMBE v1.0.0':['CZE'],\n",
    "            'WITCH 5.1': ['CZE']\n",
    "        },\n",
    "        'Denmark': {\n",
    "            'Euro-Calliope 2.0': ['Denmark'],\n",
    "            'LIMES 2.38': ['Denmark'],\n",
    "            'OSeMBE v1.0.0':['DNK']\n",
    "        },\n",
    "        'Estonia': {\n",
    "            'Euro-Calliope 2.0': ['Estonia'],\n",
    "            'LIMES 2.38': ['Estonia'],\n",
    "            'OSeMBE v1.0.0':['EST']\n",
    "        },\n",
    "        'Finland': {\n",
    "            'Euro-Calliope 2.0': ['Finland'],\n",
    "            'LIMES 2.38': ['Finland'],\n",
    "            'OSeMBE v1.0.0':['FIN']\n",
    "        },\n",
    "        'France': {\n",
    "            'Euro-Calliope 2.0': ['France'],\n",
    "            'LIMES 2.38': ['France'],\n",
    "            'MEESA v1.2': ['FRA'],\n",
    "            'OSeMBE v1.0.0':['FRA'],\n",
    "            'REMIND 2.1': ['FRA'],\n",
    "            'WITCH 5.1': ['FRA']\n",
    "        },\n",
    "        'Germany': {\n",
    "            'Euro-Calliope 2.0': ['Germany'],\n",
    "            'LIMES 2.38': ['Germany'],\n",
    "            'MEESA v1.2': ['DEU'],\n",
    "            'OSeMBE v1.0.0':['DEU'],\n",
    "            'REMIND 2.1': ['DEU'],\n",
    "            'WITCH 5.1': ['DEU']\n",
    "        },\n",
    "        'Greece': {\n",
    "            'Euro-Calliope 2.0': ['Greece'],\n",
    "            'LIMES 2.38': ['Greece'],\n",
    "            'OSeMBE v1.0.0':['GRC'],\n",
    "            'WITCH 5.1': ['GRC']\n",
    "        },\n",
    "        'Hungary': {\n",
    "            'Euro-Calliope 2.0': ['Hungary'],\n",
    "            'LIMES 2.38': ['Hungary'],\n",
    "            'OSeMBE v1.0.0':['HUN']\n",
    "        },\n",
    "        'Ireland': {\n",
    "            'Euro-Calliope 2.0': ['Ireland'],\n",
    "            'LIMES 2.38': ['Ireland'],\n",
    "            'OSeMBE v1.0.0':['IRL'],\n",
    "            'WITCH 5.1': ['IRL']\n",
    "        },\n",
    "        'Italy': {\n",
    "            'Euro-Calliope 2.0': ['Italy'],\n",
    "            'LIMES 2.38': ['Italy'],\n",
    "            'OSeMBE v1.0.0': ['ITA'],\n",
    "            'WITCH 5.1': ['ITA']\n",
    "        },\n",
    "        'Latvia': {\n",
    "            'Euro-Calliope 2.0': ['Latvia'],\n",
    "            'LIMES 2.38': ['Latvia'],\n",
    "            'OSeMBE v1.0.0':['LVA']\n",
    "        },\n",
    "        'Lithuania':{\n",
    "            'Euro-Calliope 2.0': ['Lithuania'],\n",
    "            'LIMES 2.38': ['Lithuania'],\n",
    "            'OSeMBE v1.0.0':['LTU']\n",
    "        } ,\n",
    "        'Luxembourg': {\n",
    "            'Euro-Calliope 2.0': ['Luxembourg'],\n",
    "            'LIMES 2.38': ['Luxembourg'],\n",
    "            'OSeMBE v1.0.0':['LUX']\n",
    "            },\n",
    "        'Malta': {\n",
    "            'LIMES 2.38': ['Malta'],\n",
    "            'OSeMBE v1.0.0': ['MLT']\n",
    "        },\n",
    "        'Netherlands': {\n",
    "            'Euro-Calliope 2.0': ['The Netherlands'],\n",
    "            'LIMES 2.38': ['The Netherlands'],\n",
    "            'OSeMBE v1.0.0':['NLD']\n",
    "        },\n",
    "        'Poland': {\n",
    "            'Euro-Calliope 2.0': ['Poland'],\n",
    "            'LIMES 2.38': ['Poland'],\n",
    "            'OSeMBE v1.0.0':['POL'],\n",
    "            'WITCH 5.1': ['POL']\n",
    "        },\n",
    "        'Portugal': {\n",
    "            'Euro-Calliope 2.0': ['Portugal'],\n",
    "            'LIMES 2.38': ['Portugal'],\n",
    "            'OSeMBE v1.0.0':['PRT'],\n",
    "            'WITCH 5.1': ['PRT']\n",
    "        },\n",
    "        'Romania': {\n",
    "            'Euro-Calliope 2.0': ['Romania'],\n",
    "            'LIMES 2.38': ['Romania'],\n",
    "            'OSeMBE v1.0.0':['ROU'],\n",
    "            'WITCH 5.1': ['ROU']\n",
    "        },\n",
    "        'Slovakia': {\n",
    "            'Euro-Calliope 2.0': ['Slovakia'],\n",
    "            'LIMES 2.38': ['Slovakia'],\n",
    "            'OSeMBE v1.0.0':['SVK']\n",
    "        },\n",
    "        'Slovenia': {\n",
    "            'Euro-Calliope 2.0': ['Slovenia'],\n",
    "            'LIMES 2.38': ['Slovenia'],\n",
    "            'OSeMBE v1.0.0':['SVN']\n",
    "        },\n",
    "        'Spain': {\n",
    "            'Euro-Calliope 2.0': ['Spain'],\n",
    "            'LIMES 2.38':['Spain'],\n",
    "            'OSeMBE v1.0.0':['ESP'],\n",
    "            'WITCH 5.1': ['ESP']\n",
    "        },\n",
    "        'Sweden': {\n",
    "            'Euro-Calliope 2.0': ['Sweden'],\n",
    "            'LIMES 2.38': ['Sweden'],\n",
    "            'OSeMBE v1.0.0':['SWE'],\n",
    "            'WITCH 5.1': ['SWE']\n",
    "        },\n",
    "        'United Kingdom':{\n",
    "            'Euro-Calliope 2.0': ['United Kingdom'],\n",
    "            'LIMES 2.38':['United Kingdom'],\n",
    "            'OSeMBE v1.0.0':['GBR'],\n",
    "            'WITCH 5.1': ['GBR']\n",
    "        }\n",
    "    }\n",
    "}"
   ]
  },
  {
   "attachments": {},
   "cell_type": "markdown",
   "metadata": {},
   "source": [
    "#### Harmonised regions"
   ]
  },
  {
   "cell_type": "code",
   "execution_count": 4,
   "metadata": {},
   "outputs": [],
   "source": [
    "dic_harm_reg = {\n",
    "    'Two Regions': {\n",
    "        'Western Europe': ['Austria', 'Belgium', 'Denmark', 'Finland', 'France', 'Germany', 'Greece', 'Ireland', 'Italy', 'Luxembourg', 'Malta', 'Netherlands', 'Portugal', 'Spain', 'Sweden', 'United Kingdom'],\n",
    "        'Eastern Europe': ['Bulgaria', 'Croatia', 'Cyprus', 'Czech Republic', 'Estonia', 'Hungary', 'Latvia', 'Lithuania', 'Poland', 'Romania', 'Slovakia', 'Slovenia'],\n",
    "    },\n",
    "    'Nine Regions': {\n",
    "        'United Kingdom and Ireland': ['Ireland', 'United Kingdom'],\n",
    "        'Europe West North': ['Austria', 'Belgium', 'Luxembourg', 'Netherlands'],\n",
    "        'Europe North Central': ['Denmark', 'Finland', 'Sweden'],\n",
    "        'France': ['France'],\n",
    "        'Germany': ['Germany'],\n",
    "        'Europe Central East': ['Czech Republic', 'Estonia',  'Latvia', 'Lithuania', 'Poland', 'Slovakia'],\n",
    "        'Europe South West': ['Portugal', 'Spain'],\n",
    "        'Europe South Central': ['Cyprus', 'Greece', 'Italy', 'Malta'],\n",
    "        'Europe Central South': ['Bulgaria', 'Croatia', 'Hungary', 'Romania', 'Slovenia']\n",
    "    },\n",
    "    'Countries': [\n",
    "        'Denmark', 'Sweden', 'Finland', 'Estonia', 'Latvia',\n",
    "        'Ireland', 'United Kingdom', 'Netherlands', 'Poland', 'Lithuania',\n",
    "        'France', 'Belgium', 'Luxembourg', 'Czech Republic', 'Slovakia', \n",
    "        'Spain', 'Germany', 'Austria', 'Hungary', 'Romania',\n",
    "        'Portugal', 'Italy', 'Greece', 'Slovenia', 'Bulgaria',\n",
    "        'Malta', 'Cyprus', 'Croatia' \n",
    "    ]\n",
    "}"
   ]
  },
  {
   "cell_type": "code",
   "execution_count": 5,
   "metadata": {},
   "outputs": [],
   "source": [
    "dic_reg_double_reported = {\n",
    "    'WITCH': ['AUT','DEU','FRA','GRC','ITA', 'POL'],\n",
    "    'REMIND': ['DEU', 'FRA', 'UKI', 'ENC', 'ECE', 'ESC', 'ECS'],\n",
    "    'MEESA': ['ENC', 'UKI', 'ESC', 'ECS', 'ECE']\n",
    "}"
   ]
  },
  {
   "cell_type": "markdown",
   "metadata": {},
   "source": [
    "### Get data from IIASA ScenarioExplorer"
   ]
  },
  {
   "cell_type": "code",
   "execution_count": 6,
   "metadata": {},
   "outputs": [
    {
     "name": "stderr",
     "output_type": "stream",
     "text": [
      "pyam - INFO: Running in a notebook, setting up a basic logging at level INFO\n",
      "pyam.iiasa - INFO: You are connected to the IXSE_ECEMF_INTERNAL scenario explorer hosted by IIASA. If you use this data in any published format, please cite the data as provided in the explorer guidelines: https://data.ece.iiasa.ac.at/ecemf-internal/#/about\n",
      "pyam.iiasa - INFO: You are connected as user `haukehenke`\n"
     ]
    }
   ],
   "source": [
    "conn = pyam.iiasa.Connection('ecemf_internal')\n",
    "df_common_variables = conn.query(\n",
    "    model=wp1_models,\n",
    "    variable=common_variables,\n",
    "    scenario= interest_scenarios\n",
    ")"
   ]
  },
  {
   "attachments": {},
   "cell_type": "markdown",
   "metadata": {},
   "source": [
    "### Data adjustments\n",
    "\n",
    "#### Adjust solar power reporting"
   ]
  },
  {
   "cell_type": "code",
   "execution_count": 7,
   "metadata": {},
   "outputs": [],
   "source": [
    "for model in [m for m in wp1_models if m not in df_common_variables.filter(variable='Secondary Energy|Electricity|Solar').model]:\n",
    "    df = df_common_variables.filter(variable='Secondary Energy|Electricity|Solar|PV', model=model).data\n",
    "    df['variable'] = 'Secondary Energy|Electricity|Solar'\n",
    "    df_common_variables = df_common_variables.append(df)"
   ]
  },
  {
   "cell_type": "markdown",
   "metadata": {},
   "source": [
    "**Euro-Calliope consider for solar only PV, not CSP**"
   ]
  },
  {
   "cell_type": "code",
   "execution_count": 8,
   "metadata": {},
   "outputs": [],
   "source": [
    "df = df_common_variables.filter(variable='Secondary Energy|Electricity|Solar', model='Euro-Calliope 2.0').data\n",
    "df['variable'] = 'Secondary Energy|Electricity|Solar|PV'\n",
    "df_common_variables = df_common_variables.append(df)"
   ]
  },
  {
   "cell_type": "markdown",
   "metadata": {},
   "source": [
    "**MEESA reports Solar PV Utility and Rooftop**"
   ]
  },
  {
   "cell_type": "code",
   "execution_count": 9,
   "metadata": {},
   "outputs": [],
   "source": [
    "df = df_common_variables.filter(model='MEESA v1.2', variable='Capacity|Electricity|Solar|PV|*').data.groupby(by=['model', 'scenario', 'region', 'unit', 'year'], as_index=False).sum()\n",
    "df['variable'] = 'Capacity|Electricity|Solar|PV'\n",
    "df_common_variables = df_common_variables.append(df)"
   ]
  },
  {
   "cell_type": "code",
   "execution_count": 10,
   "metadata": {},
   "outputs": [
    {
     "name": "stderr",
     "output_type": "stream",
     "text": [
      "pyam.core - WARNING: Filtered IamDataFrame is empty!\n",
      "pyam.utils - WARNING: Formatted data is empty!\n",
      "pyam.core - WARNING: Filtered IamDataFrame is empty!\n",
      "pyam.utils - WARNING: Formatted data is empty!\n"
     ]
    }
   ],
   "source": [
    "for model in [m for m in wp1_models if m not in df_common_variables.filter(variable='Capital Cost|Electricity|Solar|PV').model]:\n",
    "    df = df_common_variables.filter(variable='Capital Cost|Electricity|Solar|PV|Utility', model=model).data\n",
    "    df['variable'] = 'Capital Cost|Electricity|Solar|PV'\n",
    "    df_common_variables = df_common_variables.append(df)"
   ]
  },
  {
   "cell_type": "markdown",
   "metadata": {},
   "source": [
    "#### Adjust Hydrogen reporting\n",
    "Euro-Calliope reports only `Secondary Energy|Hydrogen` and not  `Secondary Energy|Hydrogen|Electricity`, but all hydrogen in Euro-Calliope is generated via electrolysis. Hence, in the case of Euro-Calliope the former can be used when comparing the latter across models."
   ]
  },
  {
   "cell_type": "code",
   "execution_count": 11,
   "metadata": {},
   "outputs": [],
   "source": [
    "df = df_common_variables.filter(variable='Secondary Energy|Hydrogen', model='Euro-Calliope 2.0').data\n",
    "df['variable'] = 'Secondary Energy|Hydrogen|Electricity'\n",
    "df_common_variables = df_common_variables.append(df)"
   ]
  },
  {
   "cell_type": "markdown",
   "metadata": {},
   "source": [
    "### Functions"
   ]
  },
  {
   "cell_type": "code",
   "execution_count": 12,
   "metadata": {},
   "outputs": [],
   "source": [
    "def model_regions_str(wanted_models: Dict)->List:\n",
    "    mod_reg_str = []\n",
    "    mod_reg__str_dics = {}\n",
    "    for m in wanted_models:\n",
    "        mod_reg__str_dics[m] = []\n",
    "        if m == 'PRIMES 2022':\n",
    "            for r in wanted_models[m]:\n",
    "                mod_reg_str.append(r)\n",
    "                mod_reg__str_dics[m].append(r)\n",
    "        elif m == 'OSeMBE v1.0.0':\n",
    "            for r in wanted_models[m]:\n",
    "                mod_reg_str.append('OSeMBE v1.0|'+r)\n",
    "                mod_reg__str_dics[m].append('OSeMBE v1.0|'+r)\n",
    "        elif m == 'LIMES 2.38':\n",
    "            for r in wanted_models[m]:\n",
    "                mod_reg_str.append(r)\n",
    "                mod_reg__str_dics[m].append(r)\n",
    "        else:\n",
    "            for r in wanted_models[m]:\n",
    "                mod_reg_str.append(m+'|'+r)\n",
    "                mod_reg__str_dics[m].append(m+'|'+r)\n",
    "    return mod_reg_str, mod_reg__str_dics"
   ]
  },
  {
   "cell_type": "code",
   "execution_count": 13,
   "metadata": {},
   "outputs": [],
   "source": [
    "def df_plot(data: pyam.IamDataFrame, models: List, years: List, variable: str, region: str, regions: List):\n",
    "    df = data.filter(model=models, scenario='DIAG-C400-lin', year=years, variable=variable, region=regions).data\n",
    "    df['agg_region'] = region\n",
    "    return df"
   ]
  },
  {
   "cell_type": "code",
   "execution_count": 14,
   "metadata": {},
   "outputs": [],
   "source": [
    "def get_model_colors(models: List):\n",
    "    color_list = []\n",
    "    model_colors = {\n",
    "        'Euro-Calliope 2.0': \"darkgrey\",\n",
    "        'LIMES 2.38': \"lightgreen\",\n",
    "        'OSeMBE v1.0.0': \"firebrick\",\n",
    "        'WITCH 5.1': \"forestgreen\",\n",
    "        'MEESA v1.2': \"magenta\",\n",
    "        'REMIND 2.1': \"tomato\",\n",
    "        'IMAGE 3.2': \"turquoise\",\n",
    "        'MESSAGEix-GLOBIOM 1.2': \"purple\",\n",
    "        'PRIMES 2022': \"goldenrod\",\n",
    "        'PROMETHEUS 1.2': \"yellow\",\n",
    "        'TIAM-ECN 1.2': \"steelblue\"\n",
    "    }\n",
    "    for m in models:\n",
    "        color_list.append(model_colors[m])\n",
    "    return color_list"
   ]
  },
  {
   "cell_type": "code",
   "execution_count": 15,
   "metadata": {},
   "outputs": [],
   "source": [
    "def filter_double_countries(lst_region: List, model: str, regions: List):\n",
    "    expr_model_out = '^((?!'+model+').)*$'\n",
    "    mask_rem_model = re.compile(expr_model_out)\n",
    "    lst_reg_not_aff = list(filter(mask_rem_model.match, lst_region))\n",
    "    expr_model_only = '.*('+model+')'\n",
    "    mask_model_only = re.compile(expr_model_only)\n",
    "    lst_model_reg = list(filter(mask_model_only.match, lst_region))\n",
    "    expr_excl_reg = '^((?!'\n",
    "    i = 1\n",
    "    l = len(regions)\n",
    "    for r in regions:\n",
    "        if i < l:\n",
    "            expr_excl_reg = expr_excl_reg + '(' + r + ')|'\n",
    "        else:\n",
    "            expr_excl_reg = expr_excl_reg + '(' + r + ')).)*$'\n",
    "        i+=1\n",
    "    mask_excl_reg = re.compile(expr_excl_reg)\n",
    "    lst_model_reg_sel = list(filter(mask_excl_reg.match, lst_model_reg))\n",
    "    return lst_reg_not_aff + lst_model_reg_sel"
   ]
  },
  {
   "cell_type": "markdown",
   "metadata": {},
   "source": [
    "The below function is currently not used. For variables that should not be summed when working with aggregated regions, the function check the values reported for model and only provides a value for the plot of the values reported across regions are equal. "
   ]
  },
  {
   "cell_type": "code",
   "execution_count": null,
   "metadata": {},
   "outputs": [],
   "source": [
    "def create_cost_df(df: pd.DataFrame):\n",
    "    df_cost_agg_reg = pd.DataFrame()\n",
    "    for ar in df['agg_region'].unique():\n",
    "        df_ag = df[df['agg_region']==ar]\n",
    "        for m in df_ag['model'].unique():\n",
    "            print(m)\n",
    "            df_ag_m = df_ag[df_ag['model']==m]\n",
    "            for yr in df_ag_m['year'].unique():\n",
    "                df_ag_m_yr = df_ag_m[df_ag_m['year']==yr]\n",
    "                if m == 'PRIMES 2022':\n",
    "                    print(yr, df_ag_m_yr.head())\n",
    "                if df_ag_m_yr['value'].nunique()<2:\n",
    "                    df_new_rows = pd.DataFrame([[m, yr, ar, df_ag_m_yr['value'].iloc[0]]], columns=['model', 'year', 'agg_region', 'value'])\n",
    "                    df_cost_agg_reg = pd.concat([df_cost_agg_reg, df_new_rows])\n",
    "    return df_cost_agg_reg"
   ]
  },
  {
   "cell_type": "markdown",
   "metadata": {},
   "source": [
    "#### Function to get variable stats"
   ]
  },
  {
   "cell_type": "code",
   "execution_count": 16,
   "metadata": {},
   "outputs": [],
   "source": [
    "def get_var_stats(df: pd.DataFrame):\n",
    "    median = df['value'].median()\n",
    "    stdv = df['value'].std(ddof=0) # ddof=0 makes the function use n instead of n-1 in the stdv calculation\n",
    "    max = df.loc[df['value'].idxmax()]['value']\n",
    "    min = df.loc[df['value'].idxmin()]['value']\n",
    "    return median, stdv, max, min"
   ]
  },
  {
   "cell_type": "markdown",
   "metadata": {},
   "source": [
    "### Create plots"
   ]
  },
  {
   "cell_type": "code",
   "execution_count": 29,
   "metadata": {},
   "outputs": [
    {
     "data": {
      "application/vnd.plotly.v1+json": {
       "config": {
        "plotlyServerURL": "https://plot.ly"
       },
       "data": [
        {
         "hovertemplate": "Model=Euro-Calliope 2.0<br>type=ESM<br>agg_region=Western Europe<br>Year=%{x}<br>value=%{y}<extra></extra>",
         "legendgroup": "Euro-Calliope 2.0, ESM",
         "line": {
          "color": "darkgrey",
          "dash": "solid"
         },
         "marker": {
          "symbol": "circle"
         },
         "mode": "lines",
         "name": "Euro-Calliope 2.0, ESM",
         "orientation": "v",
         "showlegend": true,
         "type": "scatter",
         "x": [
          2020,
          2030,
          2050
         ],
         "xaxis": "x",
         "y": [
          0.4622724604761269,
          2.867548256854329,
          10.161566941949122
         ],
         "yaxis": "y"
        },
        {
         "hovertemplate": "Model=Euro-Calliope 2.0<br>type=ESM<br>agg_region=Eastern Europe<br>Year=%{x}<br>value=%{y}<extra></extra>",
         "legendgroup": "Euro-Calliope 2.0, ESM",
         "line": {
          "color": "darkgrey",
          "dash": "solid"
         },
         "marker": {
          "symbol": "circle"
         },
         "mode": "lines",
         "name": "Euro-Calliope 2.0, ESM",
         "orientation": "v",
         "showlegend": false,
         "type": "scatter",
         "x": [
          2020,
          2030,
          2050
         ],
         "xaxis": "x2",
         "y": [
          0.045254209637163194,
          0.1218577921771892,
          0.8891075784710188
         ],
         "yaxis": "y2"
        },
        {
         "hovertemplate": "Model=IMAGE 3.2<br>type=IAM<br>agg_region=Western Europe<br>Year=%{x}<br>value=%{y}<extra></extra>",
         "legendgroup": "IMAGE 3.2, IAM",
         "line": {
          "color": "turquoise",
          "dash": "dot"
         },
         "marker": {
          "symbol": "circle"
         },
         "mode": "lines",
         "name": "IMAGE 3.2, IAM",
         "orientation": "v",
         "showlegend": true,
         "type": "scatter",
         "x": [
          2010,
          2020,
          2030,
          2040,
          2050
         ],
         "xaxis": "x",
         "y": [
          0.078947999,
          0.540153584,
          1.514486944,
          2.355595936,
          2.923114688
         ],
         "yaxis": "y"
        },
        {
         "hovertemplate": "Model=IMAGE 3.2<br>type=IAM<br>agg_region=Eastern Europe<br>Year=%{x}<br>value=%{y}<extra></extra>",
         "legendgroup": "IMAGE 3.2, IAM",
         "line": {
          "color": "turquoise",
          "dash": "dot"
         },
         "marker": {
          "symbol": "circle"
         },
         "mode": "lines",
         "name": "IMAGE 3.2, IAM",
         "orientation": "v",
         "showlegend": false,
         "type": "scatter",
         "x": [
          2010,
          2020,
          2030,
          2040,
          2050
         ],
         "xaxis": "x2",
         "y": [
          0.0024119996875000002,
          0.054939550000000004,
          0.25918451200000003,
          0.859856272,
          0.950824176
         ],
         "yaxis": "y2"
        },
        {
         "hovertemplate": "Model=LIMES 2.38<br>type=ESM<br>agg_region=Western Europe<br>Year=%{x}<br>value=%{y}<extra></extra>",
         "legendgroup": "LIMES 2.38, ESM",
         "line": {
          "color": "lightgreen",
          "dash": "solid"
         },
         "marker": {
          "symbol": "circle"
         },
         "mode": "lines",
         "name": "LIMES 2.38, ESM",
         "orientation": "v",
         "showlegend": true,
         "type": "scatter",
         "x": [
          2010,
          2020,
          2030,
          2040,
          2050
         ],
         "xaxis": "x",
         "y": [
          0.10170000000000001,
          0.49640000000000006,
          2.3857,
          3.7096,
          5.5453
         ],
         "yaxis": "y"
        },
        {
         "hovertemplate": "Model=LIMES 2.38<br>type=ESM<br>agg_region=Eastern Europe<br>Year=%{x}<br>value=%{y}<extra></extra>",
         "legendgroup": "LIMES 2.38, ESM",
         "line": {
          "color": "lightgreen",
          "dash": "solid"
         },
         "marker": {
          "symbol": "circle"
         },
         "mode": "lines",
         "name": "LIMES 2.38, ESM",
         "orientation": "v",
         "showlegend": false,
         "type": "scatter",
         "x": [
          2010,
          2020,
          2030,
          2040,
          2050
         ],
         "xaxis": "x2",
         "y": [
          0.007000000000000001,
          0.0199,
          0.3076,
          0.6453,
          1.1208
         ],
         "yaxis": "y2"
        },
        {
         "hovertemplate": "Model=MEESA v1.2<br>type=ESM<br>agg_region=Western Europe<br>Year=%{x}<br>value=%{y}<extra></extra>",
         "legendgroup": "MEESA v1.2, ESM",
         "line": {
          "color": "magenta",
          "dash": "solid"
         },
         "marker": {
          "symbol": "circle"
         },
         "mode": "lines",
         "name": "MEESA v1.2, ESM",
         "orientation": "v",
         "showlegend": true,
         "type": "scatter",
         "x": [
          2020,
          2030,
          2040,
          2050
         ],
         "xaxis": "x",
         "y": [
          0.658,
          2.526,
          5.079000000000001,
          7.307
         ],
         "yaxis": "y"
        },
        {
         "hovertemplate": "Model=MEESA v1.2<br>type=ESM<br>agg_region=Eastern Europe<br>Year=%{x}<br>value=%{y}<extra></extra>",
         "legendgroup": "MEESA v1.2, ESM",
         "line": {
          "color": "magenta",
          "dash": "solid"
         },
         "marker": {
          "symbol": "circle"
         },
         "mode": "lines",
         "name": "MEESA v1.2, ESM",
         "orientation": "v",
         "showlegend": false,
         "type": "scatter",
         "x": [
          2020,
          2030,
          2040,
          2050
         ],
         "xaxis": "x2",
         "y": [
          0.044,
          0.28800000000000003,
          0.565,
          0.777
         ],
         "yaxis": "y2"
        },
        {
         "hovertemplate": "Model=MESSAGEix-GLOBIOM 1.2<br>type=IAM<br>agg_region=Western Europe<br>Year=%{x}<br>value=%{y}<extra></extra>",
         "legendgroup": "MESSAGEix-GLOBIOM 1.2, IAM",
         "line": {
          "color": "purple",
          "dash": "dot"
         },
         "marker": {
          "symbol": "circle"
         },
         "mode": "lines",
         "name": "MESSAGEix-GLOBIOM 1.2, IAM",
         "orientation": "v",
         "showlegend": true,
         "type": "scatter",
         "x": [
          2010,
          2020,
          2030,
          2040,
          2050
         ],
         "xaxis": "x",
         "y": [
          0.07866076000000001,
          0.513222538639999,
          3.704286029366984,
          6.8184770462991935,
          7.488215098433111
         ],
         "yaxis": "y"
        },
        {
         "hovertemplate": "Model=MESSAGEix-GLOBIOM 1.2<br>type=IAM<br>agg_region=Eastern Europe<br>Year=%{x}<br>value=%{y}<extra></extra>",
         "legendgroup": "MESSAGEix-GLOBIOM 1.2, IAM",
         "line": {
          "color": "purple",
          "dash": "dot"
         },
         "marker": {
          "symbol": "circle"
         },
         "mode": "lines",
         "name": "MESSAGEix-GLOBIOM 1.2, IAM",
         "orientation": "v",
         "showlegend": false,
         "type": "scatter",
         "x": [
          2010,
          2020,
          2030,
          2040,
          2050
         ],
         "xaxis": "x2",
         "y": [
          0.00233396,
          0.025988960000000002,
          0.337708492491948,
          0.7926512869197021,
          0.9422416262178721
         ],
         "yaxis": "y2"
        },
        {
         "hovertemplate": "Model=OSeMBE v1.0.0<br>type=ESM<br>agg_region=Western Europe<br>Year=%{x}<br>value=%{y}<extra></extra>",
         "legendgroup": "OSeMBE v1.0.0, ESM",
         "line": {
          "color": "firebrick",
          "dash": "solid"
         },
         "marker": {
          "symbol": "circle"
         },
         "mode": "lines",
         "name": "OSeMBE v1.0.0, ESM",
         "orientation": "v",
         "showlegend": true,
         "type": "scatter",
         "x": [
          2020,
          2030,
          2040,
          2050
         ],
         "xaxis": "x",
         "y": [
          0.3849715140943133,
          0.6944187691837137,
          0.9505576526444359,
          1.579024177328254
         ],
         "yaxis": "y"
        },
        {
         "hovertemplate": "Model=OSeMBE v1.0.0<br>type=ESM<br>agg_region=Eastern Europe<br>Year=%{x}<br>value=%{y}<extra></extra>",
         "legendgroup": "OSeMBE v1.0.0, ESM",
         "line": {
          "color": "firebrick",
          "dash": "solid"
         },
         "marker": {
          "symbol": "circle"
         },
         "mode": "lines",
         "name": "OSeMBE v1.0.0, ESM",
         "orientation": "v",
         "showlegend": false,
         "type": "scatter",
         "x": [
          2020,
          2030,
          2040,
          2050
         ],
         "xaxis": "x2",
         "y": [
          0.02945717824218607,
          0.07702197037521279,
          0.110465809999997,
          0.176346811730172
         ],
         "yaxis": "y2"
        },
        {
         "hovertemplate": "Model=PRIMES 2022<br>type=ESM<br>agg_region=Western Europe<br>Year=%{x}<br>value=%{y}<extra></extra>",
         "legendgroup": "PRIMES 2022, ESM",
         "line": {
          "color": "goldenrod",
          "dash": "solid"
         },
         "marker": {
          "symbol": "circle"
         },
         "mode": "lines",
         "name": "PRIMES 2022, ESM",
         "orientation": "v",
         "showlegend": true,
         "type": "scatter",
         "x": [
          2010,
          2020,
          2030,
          2040,
          2050
         ],
         "xaxis": "x",
         "y": [
          0,
          0.491357983784934,
          2.0447654172742262,
          3.378587177274711,
          4.946941377519246
         ],
         "yaxis": "y"
        },
        {
         "hovertemplate": "Model=PRIMES 2022<br>type=ESM<br>agg_region=Eastern Europe<br>Year=%{x}<br>value=%{y}<extra></extra>",
         "legendgroup": "PRIMES 2022, ESM",
         "line": {
          "color": "goldenrod",
          "dash": "solid"
         },
         "marker": {
          "symbol": "circle"
         },
         "mode": "lines",
         "name": "PRIMES 2022, ESM",
         "orientation": "v",
         "showlegend": false,
         "type": "scatter",
         "x": [
          2010,
          2020,
          2030,
          2040,
          2050
         ],
         "xaxis": "x2",
         "y": [
          0,
          0.035419976231126,
          0.333928939177469,
          0.580533866291062,
          0.802074342725815
         ],
         "yaxis": "y2"
        },
        {
         "hovertemplate": "Model=REMIND 2.1<br>type=IAM<br>agg_region=Western Europe<br>Year=%{x}<br>value=%{y}<extra></extra>",
         "legendgroup": "REMIND 2.1, IAM",
         "line": {
          "color": "tomato",
          "dash": "dot"
         },
         "marker": {
          "symbol": "circle"
         },
         "mode": "lines",
         "name": "REMIND 2.1, IAM",
         "orientation": "v",
         "showlegend": true,
         "type": "scatter",
         "x": [
          2010,
          2020,
          2030,
          2040,
          2050
         ],
         "xaxis": "x",
         "y": [
          0.1195759,
          0.6948632,
          4.3041070999999995,
          8.474296,
          9.8645917
         ],
         "yaxis": "y"
        },
        {
         "hovertemplate": "Model=REMIND 2.1<br>type=IAM<br>agg_region=Eastern Europe<br>Year=%{x}<br>value=%{y}<extra></extra>",
         "legendgroup": "REMIND 2.1, IAM",
         "line": {
          "color": "tomato",
          "dash": "dot"
         },
         "marker": {
          "symbol": "circle"
         },
         "mode": "lines",
         "name": "REMIND 2.1, IAM",
         "orientation": "v",
         "showlegend": false,
         "type": "scatter",
         "x": [
          2010,
          2020,
          2030,
          2040,
          2050
         ],
         "xaxis": "x2",
         "y": [
          0.004950899999999999,
          0.049394999999999994,
          0.7355826999999999,
          1.3823066,
          1.5145020999999999
         ],
         "yaxis": "y2"
        },
        {
         "hovertemplate": "Model=TIAM-ECN 1.2<br>type=IAM<br>agg_region=Western Europe<br>Year=%{x}<br>value=%{y}<extra></extra>",
         "legendgroup": "TIAM-ECN 1.2, IAM",
         "line": {
          "color": "steelblue",
          "dash": "dot"
         },
         "marker": {
          "symbol": "circle"
         },
         "mode": "lines",
         "name": "TIAM-ECN 1.2, IAM",
         "orientation": "v",
         "showlegend": true,
         "type": "scatter",
         "x": [
          2020,
          2030,
          2040,
          2050
         ],
         "xaxis": "x",
         "y": [
          0.5373,
          4.4113,
          8.2585,
          14.2538
         ],
         "yaxis": "y"
        },
        {
         "hovertemplate": "Model=TIAM-ECN 1.2<br>type=IAM<br>agg_region=Eastern Europe<br>Year=%{x}<br>value=%{y}<extra></extra>",
         "legendgroup": "TIAM-ECN 1.2, IAM",
         "line": {
          "color": "steelblue",
          "dash": "dot"
         },
         "marker": {
          "symbol": "circle"
         },
         "mode": "lines",
         "name": "TIAM-ECN 1.2, IAM",
         "orientation": "v",
         "showlegend": false,
         "type": "scatter",
         "x": [
          2020,
          2030,
          2040,
          2050
         ],
         "xaxis": "x2",
         "y": [
          0.0327,
          0.8503000000000001,
          1.366,
          1.3939
         ],
         "yaxis": "y2"
        },
        {
         "hovertemplate": "Model=WITCH 5.1<br>type=IAM<br>agg_region=Western Europe<br>Year=%{x}<br>value=%{y}<extra></extra>",
         "legendgroup": "WITCH 5.1, IAM",
         "line": {
          "color": "forestgreen",
          "dash": "dot"
         },
         "marker": {
          "symbol": "circle"
         },
         "mode": "lines",
         "name": "WITCH 5.1, IAM",
         "orientation": "v",
         "showlegend": true,
         "type": "scatter",
         "x": [
          2010,
          2020,
          2030,
          2040,
          2050
         ],
         "xaxis": "x",
         "y": [
          0.1261362228637974,
          0.622069749367499,
          4.57897212827957,
          7.8437950730461115,
          8.762209616332557
         ],
         "yaxis": "y"
        },
        {
         "hovertemplate": "Model=WITCH 5.1<br>type=IAM<br>agg_region=Eastern Europe<br>Year=%{x}<br>value=%{y}<extra></extra>",
         "legendgroup": "WITCH 5.1, IAM",
         "line": {
          "color": "forestgreen",
          "dash": "dot"
         },
         "marker": {
          "symbol": "circle"
         },
         "mode": "lines",
         "name": "WITCH 5.1, IAM",
         "orientation": "v",
         "showlegend": false,
         "type": "scatter",
         "x": [
          2010,
          2020,
          2030,
          2040,
          2050
         ],
         "xaxis": "x2",
         "y": [
          0.007160255715753999,
          0.047009636926597,
          0.662770119255025,
          1.7908686716452262,
          2.284613491366754
         ],
         "yaxis": "y2"
        },
        {
         "base": [
          1.579024177328254,
          3.850858653445637,
          10.944356444987474
         ],
         "marker": {
          "color": [
           "blue",
           "yellow",
           "red"
          ]
         },
         "name": "Level",
         "opacity": 0.5,
         "type": "bar",
         "x": [
          2050,
          2050,
          2050
         ],
         "xaxis": "x",
         "y": [
          2.271834476117383,
          7.093497791541838,
          3.3094435550125256
         ],
         "yaxis": "y"
        },
        {
         "base": [
          0.176346811730172,
          0.4176128954683569,
          1.4754529067495152
         ],
         "marker": {
          "color": [
           "blue",
           "yellow",
           "red"
          ]
         },
         "name": "Level",
         "opacity": 0.5,
         "type": "bar",
         "x": [
          2050,
          2050,
          2050
         ],
         "xaxis": "x2",
         "y": [
          0.2412660837381849,
          1.0578400112811583,
          0.8091605846172389
         ],
         "yaxis": "y2"
        }
       ],
       "layout": {
        "annotations": [
         {
          "showarrow": false,
          "text": "Western Europe",
          "x": 0.2375,
          "xanchor": "center",
          "xref": "paper",
          "y": 1,
          "yanchor": "bottom",
          "yref": "paper"
         },
         {
          "showarrow": false,
          "text": "Eastern Europe",
          "x": 0.7625,
          "xanchor": "center",
          "xref": "paper",
          "y": 1,
          "yanchor": "bottom",
          "yref": "paper"
         },
         {
          "font": {
           "size": 14
          },
          "showarrow": false,
          "text": "EJ/yr",
          "textangle": -90,
          "x": -0.07,
          "xref": "paper",
          "y": 0.5,
          "yref": "paper"
         }
        ],
        "font": {
         "size": 16
        },
        "height": 600,
        "legend": {
         "orientation": "h",
         "title": {
          "text": "Model, type"
         },
         "tracegroupgap": 0,
         "x": 0.5,
         "xanchor": "center",
         "y": -0.25,
         "yanchor": "top"
        },
        "template": {
         "data": {
          "bar": [
           {
            "error_x": {
             "color": "#2a3f5f"
            },
            "error_y": {
             "color": "#2a3f5f"
            },
            "marker": {
             "line": {
              "color": "#E5ECF6",
              "width": 0.5
             },
             "pattern": {
              "fillmode": "overlay",
              "size": 10,
              "solidity": 0.2
             }
            },
            "type": "bar"
           }
          ],
          "barpolar": [
           {
            "marker": {
             "line": {
              "color": "#E5ECF6",
              "width": 0.5
             },
             "pattern": {
              "fillmode": "overlay",
              "size": 10,
              "solidity": 0.2
             }
            },
            "type": "barpolar"
           }
          ],
          "carpet": [
           {
            "aaxis": {
             "endlinecolor": "#2a3f5f",
             "gridcolor": "white",
             "linecolor": "white",
             "minorgridcolor": "white",
             "startlinecolor": "#2a3f5f"
            },
            "baxis": {
             "endlinecolor": "#2a3f5f",
             "gridcolor": "white",
             "linecolor": "white",
             "minorgridcolor": "white",
             "startlinecolor": "#2a3f5f"
            },
            "type": "carpet"
           }
          ],
          "choropleth": [
           {
            "colorbar": {
             "outlinewidth": 0,
             "ticks": ""
            },
            "type": "choropleth"
           }
          ],
          "contour": [
           {
            "colorbar": {
             "outlinewidth": 0,
             "ticks": ""
            },
            "colorscale": [
             [
              0,
              "#0d0887"
             ],
             [
              0.1111111111111111,
              "#46039f"
             ],
             [
              0.2222222222222222,
              "#7201a8"
             ],
             [
              0.3333333333333333,
              "#9c179e"
             ],
             [
              0.4444444444444444,
              "#bd3786"
             ],
             [
              0.5555555555555556,
              "#d8576b"
             ],
             [
              0.6666666666666666,
              "#ed7953"
             ],
             [
              0.7777777777777778,
              "#fb9f3a"
             ],
             [
              0.8888888888888888,
              "#fdca26"
             ],
             [
              1,
              "#f0f921"
             ]
            ],
            "type": "contour"
           }
          ],
          "contourcarpet": [
           {
            "colorbar": {
             "outlinewidth": 0,
             "ticks": ""
            },
            "type": "contourcarpet"
           }
          ],
          "heatmap": [
           {
            "colorbar": {
             "outlinewidth": 0,
             "ticks": ""
            },
            "colorscale": [
             [
              0,
              "#0d0887"
             ],
             [
              0.1111111111111111,
              "#46039f"
             ],
             [
              0.2222222222222222,
              "#7201a8"
             ],
             [
              0.3333333333333333,
              "#9c179e"
             ],
             [
              0.4444444444444444,
              "#bd3786"
             ],
             [
              0.5555555555555556,
              "#d8576b"
             ],
             [
              0.6666666666666666,
              "#ed7953"
             ],
             [
              0.7777777777777778,
              "#fb9f3a"
             ],
             [
              0.8888888888888888,
              "#fdca26"
             ],
             [
              1,
              "#f0f921"
             ]
            ],
            "type": "heatmap"
           }
          ],
          "heatmapgl": [
           {
            "colorbar": {
             "outlinewidth": 0,
             "ticks": ""
            },
            "colorscale": [
             [
              0,
              "#0d0887"
             ],
             [
              0.1111111111111111,
              "#46039f"
             ],
             [
              0.2222222222222222,
              "#7201a8"
             ],
             [
              0.3333333333333333,
              "#9c179e"
             ],
             [
              0.4444444444444444,
              "#bd3786"
             ],
             [
              0.5555555555555556,
              "#d8576b"
             ],
             [
              0.6666666666666666,
              "#ed7953"
             ],
             [
              0.7777777777777778,
              "#fb9f3a"
             ],
             [
              0.8888888888888888,
              "#fdca26"
             ],
             [
              1,
              "#f0f921"
             ]
            ],
            "type": "heatmapgl"
           }
          ],
          "histogram": [
           {
            "marker": {
             "pattern": {
              "fillmode": "overlay",
              "size": 10,
              "solidity": 0.2
             }
            },
            "type": "histogram"
           }
          ],
          "histogram2d": [
           {
            "colorbar": {
             "outlinewidth": 0,
             "ticks": ""
            },
            "colorscale": [
             [
              0,
              "#0d0887"
             ],
             [
              0.1111111111111111,
              "#46039f"
             ],
             [
              0.2222222222222222,
              "#7201a8"
             ],
             [
              0.3333333333333333,
              "#9c179e"
             ],
             [
              0.4444444444444444,
              "#bd3786"
             ],
             [
              0.5555555555555556,
              "#d8576b"
             ],
             [
              0.6666666666666666,
              "#ed7953"
             ],
             [
              0.7777777777777778,
              "#fb9f3a"
             ],
             [
              0.8888888888888888,
              "#fdca26"
             ],
             [
              1,
              "#f0f921"
             ]
            ],
            "type": "histogram2d"
           }
          ],
          "histogram2dcontour": [
           {
            "colorbar": {
             "outlinewidth": 0,
             "ticks": ""
            },
            "colorscale": [
             [
              0,
              "#0d0887"
             ],
             [
              0.1111111111111111,
              "#46039f"
             ],
             [
              0.2222222222222222,
              "#7201a8"
             ],
             [
              0.3333333333333333,
              "#9c179e"
             ],
             [
              0.4444444444444444,
              "#bd3786"
             ],
             [
              0.5555555555555556,
              "#d8576b"
             ],
             [
              0.6666666666666666,
              "#ed7953"
             ],
             [
              0.7777777777777778,
              "#fb9f3a"
             ],
             [
              0.8888888888888888,
              "#fdca26"
             ],
             [
              1,
              "#f0f921"
             ]
            ],
            "type": "histogram2dcontour"
           }
          ],
          "mesh3d": [
           {
            "colorbar": {
             "outlinewidth": 0,
             "ticks": ""
            },
            "type": "mesh3d"
           }
          ],
          "parcoords": [
           {
            "line": {
             "colorbar": {
              "outlinewidth": 0,
              "ticks": ""
             }
            },
            "type": "parcoords"
           }
          ],
          "pie": [
           {
            "automargin": true,
            "type": "pie"
           }
          ],
          "scatter": [
           {
            "fillpattern": {
             "fillmode": "overlay",
             "size": 10,
             "solidity": 0.2
            },
            "type": "scatter"
           }
          ],
          "scatter3d": [
           {
            "line": {
             "colorbar": {
              "outlinewidth": 0,
              "ticks": ""
             }
            },
            "marker": {
             "colorbar": {
              "outlinewidth": 0,
              "ticks": ""
             }
            },
            "type": "scatter3d"
           }
          ],
          "scattercarpet": [
           {
            "marker": {
             "colorbar": {
              "outlinewidth": 0,
              "ticks": ""
             }
            },
            "type": "scattercarpet"
           }
          ],
          "scattergeo": [
           {
            "marker": {
             "colorbar": {
              "outlinewidth": 0,
              "ticks": ""
             }
            },
            "type": "scattergeo"
           }
          ],
          "scattergl": [
           {
            "marker": {
             "colorbar": {
              "outlinewidth": 0,
              "ticks": ""
             }
            },
            "type": "scattergl"
           }
          ],
          "scattermapbox": [
           {
            "marker": {
             "colorbar": {
              "outlinewidth": 0,
              "ticks": ""
             }
            },
            "type": "scattermapbox"
           }
          ],
          "scatterpolar": [
           {
            "marker": {
             "colorbar": {
              "outlinewidth": 0,
              "ticks": ""
             }
            },
            "type": "scatterpolar"
           }
          ],
          "scatterpolargl": [
           {
            "marker": {
             "colorbar": {
              "outlinewidth": 0,
              "ticks": ""
             }
            },
            "type": "scatterpolargl"
           }
          ],
          "scatterternary": [
           {
            "marker": {
             "colorbar": {
              "outlinewidth": 0,
              "ticks": ""
             }
            },
            "type": "scatterternary"
           }
          ],
          "surface": [
           {
            "colorbar": {
             "outlinewidth": 0,
             "ticks": ""
            },
            "colorscale": [
             [
              0,
              "#0d0887"
             ],
             [
              0.1111111111111111,
              "#46039f"
             ],
             [
              0.2222222222222222,
              "#7201a8"
             ],
             [
              0.3333333333333333,
              "#9c179e"
             ],
             [
              0.4444444444444444,
              "#bd3786"
             ],
             [
              0.5555555555555556,
              "#d8576b"
             ],
             [
              0.6666666666666666,
              "#ed7953"
             ],
             [
              0.7777777777777778,
              "#fb9f3a"
             ],
             [
              0.8888888888888888,
              "#fdca26"
             ],
             [
              1,
              "#f0f921"
             ]
            ],
            "type": "surface"
           }
          ],
          "table": [
           {
            "cells": {
             "fill": {
              "color": "#EBF0F8"
             },
             "line": {
              "color": "white"
             }
            },
            "header": {
             "fill": {
              "color": "#C8D4E3"
             },
             "line": {
              "color": "white"
             }
            },
            "type": "table"
           }
          ]
         },
         "layout": {
          "annotationdefaults": {
           "arrowcolor": "#2a3f5f",
           "arrowhead": 0,
           "arrowwidth": 1
          },
          "autotypenumbers": "strict",
          "coloraxis": {
           "colorbar": {
            "outlinewidth": 0,
            "ticks": ""
           }
          },
          "colorscale": {
           "diverging": [
            [
             0,
             "#8e0152"
            ],
            [
             0.1,
             "#c51b7d"
            ],
            [
             0.2,
             "#de77ae"
            ],
            [
             0.3,
             "#f1b6da"
            ],
            [
             0.4,
             "#fde0ef"
            ],
            [
             0.5,
             "#f7f7f7"
            ],
            [
             0.6,
             "#e6f5d0"
            ],
            [
             0.7,
             "#b8e186"
            ],
            [
             0.8,
             "#7fbc41"
            ],
            [
             0.9,
             "#4d9221"
            ],
            [
             1,
             "#276419"
            ]
           ],
           "sequential": [
            [
             0,
             "#0d0887"
            ],
            [
             0.1111111111111111,
             "#46039f"
            ],
            [
             0.2222222222222222,
             "#7201a8"
            ],
            [
             0.3333333333333333,
             "#9c179e"
            ],
            [
             0.4444444444444444,
             "#bd3786"
            ],
            [
             0.5555555555555556,
             "#d8576b"
            ],
            [
             0.6666666666666666,
             "#ed7953"
            ],
            [
             0.7777777777777778,
             "#fb9f3a"
            ],
            [
             0.8888888888888888,
             "#fdca26"
            ],
            [
             1,
             "#f0f921"
            ]
           ],
           "sequentialminus": [
            [
             0,
             "#0d0887"
            ],
            [
             0.1111111111111111,
             "#46039f"
            ],
            [
             0.2222222222222222,
             "#7201a8"
            ],
            [
             0.3333333333333333,
             "#9c179e"
            ],
            [
             0.4444444444444444,
             "#bd3786"
            ],
            [
             0.5555555555555556,
             "#d8576b"
            ],
            [
             0.6666666666666666,
             "#ed7953"
            ],
            [
             0.7777777777777778,
             "#fb9f3a"
            ],
            [
             0.8888888888888888,
             "#fdca26"
            ],
            [
             1,
             "#f0f921"
            ]
           ]
          },
          "colorway": [
           "#636efa",
           "#EF553B",
           "#00cc96",
           "#ab63fa",
           "#FFA15A",
           "#19d3f3",
           "#FF6692",
           "#B6E880",
           "#FF97FF",
           "#FECB52"
          ],
          "font": {
           "color": "#2a3f5f"
          },
          "geo": {
           "bgcolor": "white",
           "lakecolor": "white",
           "landcolor": "#E5ECF6",
           "showlakes": true,
           "showland": true,
           "subunitcolor": "white"
          },
          "hoverlabel": {
           "align": "left"
          },
          "hovermode": "closest",
          "mapbox": {
           "style": "light"
          },
          "paper_bgcolor": "white",
          "plot_bgcolor": "#E5ECF6",
          "polar": {
           "angularaxis": {
            "gridcolor": "white",
            "linecolor": "white",
            "ticks": ""
           },
           "bgcolor": "#E5ECF6",
           "radialaxis": {
            "gridcolor": "white",
            "linecolor": "white",
            "ticks": ""
           }
          },
          "scene": {
           "xaxis": {
            "backgroundcolor": "#E5ECF6",
            "gridcolor": "white",
            "gridwidth": 2,
            "linecolor": "white",
            "showbackground": true,
            "ticks": "",
            "zerolinecolor": "white"
           },
           "yaxis": {
            "backgroundcolor": "#E5ECF6",
            "gridcolor": "white",
            "gridwidth": 2,
            "linecolor": "white",
            "showbackground": true,
            "ticks": "",
            "zerolinecolor": "white"
           },
           "zaxis": {
            "backgroundcolor": "#E5ECF6",
            "gridcolor": "white",
            "gridwidth": 2,
            "linecolor": "white",
            "showbackground": true,
            "ticks": "",
            "zerolinecolor": "white"
           }
          },
          "shapedefaults": {
           "line": {
            "color": "#2a3f5f"
           }
          },
          "ternary": {
           "aaxis": {
            "gridcolor": "white",
            "linecolor": "white",
            "ticks": ""
           },
           "baxis": {
            "gridcolor": "white",
            "linecolor": "white",
            "ticks": ""
           },
           "bgcolor": "#E5ECF6",
           "caxis": {
            "gridcolor": "white",
            "linecolor": "white",
            "ticks": ""
           }
          },
          "title": {
           "x": 0.05
          },
          "xaxis": {
           "automargin": true,
           "gridcolor": "white",
           "linecolor": "white",
           "ticks": "",
           "title": {
            "standoff": 15
           },
           "zerolinecolor": "white",
           "zerolinewidth": 2
          },
          "yaxis": {
           "automargin": true,
           "gridcolor": "white",
           "linecolor": "white",
           "ticks": "",
           "title": {
            "standoff": 15
           },
           "zerolinecolor": "white",
           "zerolinewidth": 2
          }
         }
        },
        "title": {
         "text": "<b>Secondary Energy|Electricity|Solar|PV</b> for Europe aggregated in Two Regions"
        },
        "width": 1067,
        "xaxis": {
         "anchor": "y",
         "domain": [
          0,
          0.475
         ],
         "title": {
          "text": "Year"
         }
        },
        "xaxis2": {
         "anchor": "y2",
         "domain": [
          0.525,
          1
         ],
         "matches": "x",
         "title": {
          "text": "Year"
         }
        },
        "yaxis": {
         "anchor": "x",
         "domain": [
          0,
          1
         ],
         "title": {
          "text": ""
         }
        },
        "yaxis2": {
         "anchor": "x2",
         "domain": [
          0,
          1
         ],
         "matches": "y",
         "showticklabels": false,
         "title": {
          "text": ""
         }
        }
       }
      }
     },
     "metadata": {},
     "output_type": "display_data"
    }
   ],
   "source": [
    "for c in common_variables:\n",
    "    # c = 'Secondary Energy|Electricity|Solar|PV'\n",
    "    v_path_str = c.replace('|', '_')\n",
    "    for d in dic_model_reg:\n",
    "        # d='Two Regions'\n",
    "        n_plots = len(dic_model_reg[d].keys())\n",
    "        if n_plots==2:\n",
    "            n =2\n",
    "        else:\n",
    "            n =  round(n_plots**(1/2))\n",
    "\n",
    "        df = pd.DataFrame()\n",
    "        yrs = {'2050': [2050], '10 year steps': [2010,2020,2030,2040,2050]}\n",
    "\n",
    "        for r in dic_model_reg[d]:\n",
    "            modls = list(dic_model_reg[d][r])\n",
    "            number_of_model_regions = []\n",
    "            for m in list(dic_model_reg[d][r].keys()):\n",
    "                number_of_model_regions.append(len(dic_model_reg[d][r][m]))\n",
    "            max_n_regs = max(number_of_model_regions)\n",
    "            list_model_reg_str, dic_model_reg_str = model_regions_str(dic_model_reg[d][r])\n",
    "\n",
    "            for m in dic_reg_double_reported:\n",
    "                list_model_reg_str = filter_double_countries(list_model_reg_str, m, dic_reg_double_reported[m])\n",
    "\n",
    "            df = pd.concat([df, df_plot(df_common_variables, modls, yrs['10 year steps'], c, r, list_model_reg_str)])\n",
    "            \n",
    "        if not df.empty:\n",
    "            if any(t in c for t in ('Cost', 'Life', 'Efficiency')):\n",
    "                df_plots = df.groupby(['model', 'year', 'agg_region']).mean()\n",
    "            else:  \n",
    "                df_plots = df.groupby(['model', 'year', 'agg_region']).sum()\n",
    "            df_plots = df_plots.reset_index()\n",
    "            df_plots.loc[df_plots['model'].isin(model_type['IAM']), 'type'] = 'IAM'\n",
    "            df_plots.loc[df_plots['model'].isin(model_type['ESM']), 'type'] = 'ESM'\n",
    "            plot_colors = get_model_colors(list(df_plots['model'].unique()))\n",
    "\n",
    "            agg_region = []\n",
    "            for r in dic_harm_reg[d]:\n",
    "                if r in df_plots['agg_region'].unique():\n",
    "                    agg_region.append(r)\n",
    "\n",
    "            fig = px.line(\n",
    "                df_plots, \n",
    "                x='year', y='value', \n",
    "                facet_col='agg_region', facet_col_wrap=n, facet_col_spacing=0.05,\n",
    "                title='<b>'+c+'</b>'+' for Europe aggregated in '+d,\n",
    "                color='model',\n",
    "                line_dash='type',\n",
    "                color_discrete_sequence=plot_colors,\n",
    "                labels={'model': 'Model', 'year': \"Year\", 'license': 'License:'},\n",
    "                category_orders= {\"agg_region\": agg_region},\n",
    "                height=600, width=1067\n",
    "                )\n",
    "            \n",
    "            if d=='Countries':\n",
    "                fig.update_yaxes(matches=None, showticklabels=True)\n",
    "            for axis in fig.layout:\n",
    "                if type(fig.layout[axis]) == go.layout.YAxis:\n",
    "                    fig.layout[axis].title.text = ''\n",
    "\n",
    "            fig.update_layout(\n",
    "                # keep the original annotations and add a list of new annotations:\n",
    "                annotations = list(fig.layout.annotations) + \n",
    "                [go.layout.Annotation(\n",
    "                        x=-0.07,\n",
    "                        y=0.5,\n",
    "                        font=dict(\n",
    "                            size=14\n",
    "                        ),\n",
    "                        showarrow=False,\n",
    "                        text=df['unit'].unique()[0],\n",
    "                        textangle=-90,\n",
    "                        xref=\"paper\",\n",
    "                        yref=\"paper\"\n",
    "                    )\n",
    "                ]\n",
    "            )\n",
    "            fig.update_layout(legend=dict(\n",
    "                orientation=\"h\",\n",
    "                yanchor=\"top\",\n",
    "                y=-0.25,\n",
    "                xanchor=\"center\",\n",
    "                x=0.5\n",
    "            ))\n",
    "            fig.update_layout(\n",
    "                font = dict(\n",
    "                    size=16\n",
    "                )\n",
    "            )\n",
    "            fig.for_each_annotation(lambda a: a.update(text=a.text.split(\"=\")[-1]))\n",
    "\n",
    "        row = 1\n",
    "        col = 1\n",
    "        for p in agg_region:\n",
    "\n",
    "            median, standev, maxi, mini = get_var_stats(df_plots[(df_plots['year']==2050)&(df_plots['agg_region']==p)])\n",
    "            y = [median-standev-mini, 2*standev, maxi-median-standev]\n",
    "            base = [mini, median-standev, median+standev]\n",
    "            fig.add_trace( \n",
    "                go.Bar(\n",
    "                    x = [2050, 2050, 2050],\n",
    "                    y = y,\n",
    "                    base = base,\n",
    "                    marker_color= ['blue', 'yellow', 'red'],\n",
    "                    opacity=0.5,\n",
    "                    name='Level'\n",
    "                ),\n",
    "                row=row,\n",
    "                col=col\n",
    "            )\n",
    "            if col < n:\n",
    "                col += 1\n",
    "            else:\n",
    "                col = 1\n",
    "                row += 1\n",
    "\n",
    "        # fig.show()\n",
    "\n",
    "        path_html = os.path.join(path_dic, v_path_str+'-'+d+'.html')\n",
    "        fig.write_html(path_html)\n",
    "        path_png = os.path.join(path_dic,v_path_str+'-'+d+'.png')\n",
    "        fig.write_image(path_png) #, scale=2)\n"
   ]
  },
  {
   "cell_type": "code",
   "execution_count": null,
   "metadata": {},
   "outputs": [],
   "source": [
    "test = pd.DataFrame([['a', 1, 1.5],['b', 1, 2], ['a', 2, 2.5], ['b', 4, 3]], columns=['name', 'value', 'base'])\n",
    "test.head()\n",
    "fig_test = px.bar(test, x='name', y='value', base='base')\n",
    "fig_test.show()"
   ]
  },
  {
   "cell_type": "code",
   "execution_count": null,
   "metadata": {},
   "outputs": [],
   "source": [
    "test_line = pd.DataFrame([\n",
    "    [2010, 5, 'a'], [2020, 6, 'a'], [2030, 8, 'a'], [2040, 11, 'a'], [2050, 15, 'a'],\n",
    "    [2010, 6, 'b'], [2020, 7, 'b'], [2030, 9, 'b'], [2040, 12, 'b'], [2050, 16, 'b'],\n",
    "    [2010, 4, 'c'], [2020, 5, 'c'], [2030, 7, 'c'], [2040, 10, 'c'], [2050, 14, 'c']\n",
    "    ],\n",
    "    columns=['year', 'value', 'series'])\n",
    "\n",
    "max = test_line.loc[test_line[test_line['year']==2050]['value'].idxmax()]['value']\n",
    "min = test_line.loc[test_line[test_line['year']==2050]['value'].idxmin()]['value']\n",
    "third = (max - min)/3\n",
    "\n",
    "df_bar_2050 = pd.DataFrame(columns=['year', 'value', 'base', 'level'])\n",
    "\n",
    "i = min \n",
    "for j in ['low', 'medium', 'high']:\n",
    "    row = pd.DataFrame([[2050, third, i, j]], columns=['year', 'value', 'base', 'level'])\n",
    "    df_bar_2050 = pd.concat([df_bar_2050, row])\n",
    "    i += third\n",
    "\n",
    "fig_line = px.line(test_line, x='year', y='value', color='series')\n",
    "\n",
    "fig_line.add_bar(\n",
    "    x=df_bar_2050.year,\n",
    "    y=df_bar_2050.value,\n",
    "    base=df_bar_2050.base,\n",
    "    marker_color= ['blue', 'yellow', 'red'],\n",
    "    opacity=0.5)\n",
    "\n",
    "fig_line.show()"
   ]
  },
  {
   "cell_type": "code",
   "execution_count": null,
   "metadata": {},
   "outputs": [],
   "source": [
    "test_with_level = test_line[test_line['year']==2050]\n",
    "test_with_level['level'] = \"\"\n",
    "\n",
    "for r in test_with_level.index:\n",
    "    v = test_with_level.loc[r, 'value']\n",
    "    if v < (min + third):\n",
    "        test_with_level.loc[r, 'level'] = 'low'\n",
    "    elif v > (max - third):\n",
    "        test_with_level.loc[r, 'level'] = 'high'\n",
    "    else:\n",
    "        test_with_level.loc[r, 'level'] = 'medium'\n",
    "test_with_level"
   ]
  },
  {
   "attachments": {},
   "cell_type": "markdown",
   "metadata": {},
   "source": [
    "### Plot countries of selected aggregate region"
   ]
  },
  {
   "cell_type": "code",
   "execution_count": null,
   "metadata": {},
   "outputs": [],
   "source": [
    "def plot_cs_of_aggregate_reg(path: str, variable: str, aggregation: str, reg: str, harm_reg: Dict, model_reg: Dict, data):\n",
    "    v_path_str = variable.replace('|', '_')\n",
    "    n_plots = len(harm_reg[aggregation][reg])\n",
    "    if n_plots==2:\n",
    "            n_col =2\n",
    "    else:\n",
    "        n_col =  round(n_plots**(1/2))\n",
    "    \n",
    "    df = pd.DataFrame()\n",
    "    yrs = [2010,2020,2030,2040,2050]\n",
    "    for r in harm_reg[aggregation][reg]:\n",
    "        models = list(model_reg['Countries'][r])\n",
    "        lst_model_reg_str, dic_mod_reg_str = model_regions_str(dic_model_reg['Countries'][r])\n",
    "        for m in dic_reg_double_reported:\n",
    "            lst_model_reg_str = filter_double_countries(lst_model_reg_str, m, dic_reg_double_reported[m])\n",
    "        df = pd.concat([df, df_plot(data, models, yrs, variable, r, lst_model_reg_str)])\n",
    "    if not df.empty:\n",
    "        plot_colors = get_model_colors(list(df['model'].unique()))\n",
    "        fig = px.line(\n",
    "            df, \n",
    "            x='year', y='value', \n",
    "            facet_col='agg_region', facet_col_wrap=n_col, facet_col_spacing=0.05,\n",
    "            title='<b>'+variable+'</b>'+' for '+ reg +' in country resolution',\n",
    "            color='model',\n",
    "            color_discrete_sequence=plot_colors,\n",
    "            labels={'model': 'Model:', 'year': \"Year\"},\n",
    "            height=600, width=1067\n",
    "            )\n",
    "        fig.update_yaxes(matches=None, showticklabels=True)\n",
    "        for axis in fig.layout:\n",
    "            if type(fig.layout[axis]) == go.layout.YAxis:\n",
    "                fig.layout[axis].title.text = ''\n",
    "\n",
    "        fig.update_layout(\n",
    "            # keep the original annotations and add a list of new annotations:\n",
    "            annotations = list(fig.layout.annotations) + \n",
    "            [go.layout.Annotation(\n",
    "                    x=-0.07,\n",
    "                    y=0.5,\n",
    "                    font=dict(\n",
    "                        size=14\n",
    "                    ),\n",
    "                    showarrow=False,\n",
    "                    text=df['unit'].unique()[0],\n",
    "                    textangle=-90,\n",
    "                    xref=\"paper\",\n",
    "                    yref=\"paper\"\n",
    "                )\n",
    "            ]\n",
    "        )\n",
    "        fig.update_layout(legend=dict(\n",
    "            orientation=\"h\",\n",
    "            yanchor=\"top\",\n",
    "            y=-0.25,\n",
    "            xanchor=\"right\",\n",
    "            x=0.99\n",
    "        ))\n",
    "        fig.update_layout(\n",
    "            font = dict(\n",
    "                size=16\n",
    "            )\n",
    "        )           \n",
    "        fig.for_each_annotation(lambda a: a.update(text=a.text.split(\"=\")[-1]))\n",
    "\n",
    "        path_html = os.path.join(path, v_path_str+'-'+reg+'.html')\n",
    "        fig.write_html(path_html)\n",
    "        path_png = os.path.join(path, v_path_str+'-'+reg+'.png')\n",
    "        fig.write_image(path_png)\n",
    "        # fig.show()\n",
    "    return df"
   ]
  },
  {
   "cell_type": "code",
   "execution_count": null,
   "metadata": {},
   "outputs": [],
   "source": [
    "plot_cs_of_aggregate_reg(path_dic, \"Secondary Energy|Electricity|Solar\", 'Nine Regions', 'Europe Central East', dic_harm_reg, dic_model_reg, df_common_variables)"
   ]
  },
  {
   "attachments": {},
   "cell_type": "markdown",
   "metadata": {},
   "source": [
    "## Create plots of vRE shares"
   ]
  },
  {
   "cell_type": "code",
   "execution_count": null,
   "metadata": {},
   "outputs": [],
   "source": [
    "def df_vre_plot(data: pd.DataFrame, models: List, years: List, region: str, regions: List):\n",
    "    df = data[\n",
    "    (data['region'].isin(regions)) &\n",
    "    (data['model'].isin(models)) &\n",
    "    (data['year'].isin(years)) & \n",
    "    (data['scenario'].isin(['DIAG-C400-lin']))\n",
    "    ]\n",
    "    df['agg_region'] = region\n",
    "    return df"
   ]
  },
  {
   "cell_type": "code",
   "execution_count": null,
   "metadata": {},
   "outputs": [],
   "source": [
    "df_vre = df_common_variables.filter(variable=['Secondary Energy|Electricity|Solar', 'Secondary Energy|Electricity|Wind']).data.groupby(['year', 'region', 'model']).sum()\n",
    "df_fee = df_common_variables.filter(variable=['Secondary Energy|Electricity']).data\n",
    "df_vre = df_vre.reset_index()\n",
    "df_vre = df_vre.merge(df_fee, how='left', on=['year', 'region', 'model'], suffixes=['_vre', '_fee'])"
   ]
  },
  {
   "cell_type": "code",
   "execution_count": null,
   "metadata": {},
   "outputs": [],
   "source": [
    "c = 'Share|variable Renewable Energies'\n",
    "v_path_str = c.replace('|', '_')\n",
    "for d in dic_model_reg:\n",
    "    # d='Nine Regions'\n",
    "    n_plots = len(dic_model_reg[d].keys())\n",
    "    if n_plots==2:\n",
    "        n =2\n",
    "    else:\n",
    "        n =  round(n_plots**(1/2)) # math.ceil((len(dic_model_reg[d].keys()))**(1/2))\n",
    "\n",
    "    df = pd.DataFrame()\n",
    "    yrs = {'2050': [2050], '10 year steps': [2010,2020,2030,2040,2050]}\n",
    "\n",
    "    # if d=='Countries':\n",
    "    for r in dic_model_reg[d]:\n",
    "        modls = list(dic_model_reg[d][r])\n",
    "        number_of_model_regions = []\n",
    "        for m in list(dic_model_reg[d][r].keys()):\n",
    "            number_of_model_regions.append(len(dic_model_reg[d][r][m]))\n",
    "        max_n_regs = max(number_of_model_regions)\n",
    "        list_model_reg_str, dic_model_reg_str = model_regions_str(dic_model_reg[d][r])\n",
    "\n",
    "        for m in dic_reg_double_reported:\n",
    "            list_model_reg_str = filter_double_countries(list_model_reg_str, m, dic_reg_double_reported[m])\n",
    "\n",
    "        df = pd.concat([df, df_vre_plot(df_vre, modls, yrs['10 year steps'], r, list_model_reg_str)])\n",
    "        \n",
    "    if not df.empty:\n",
    "        df_plots = df.groupby(['model', 'year', 'agg_region']).sum()\n",
    "        df_plots = df_plots.reset_index()\n",
    "        df_plots['share vre'] = (df_plots['value_vre'] / df_plots['value_fee']) * 100\n",
    "        df_plots.loc[df_plots['model'].isin(model_type['IAM']), 'type'] = 'IAM'\n",
    "        df_plots.loc[df_plots['model'].isin(model_type['ESM']), 'type'] = 'ESM'\n",
    "        plot_colors = get_model_colors(list(df_plots['model'].unique()))\n",
    "\n",
    "        agg_region = []\n",
    "        for r in dic_harm_reg[d]:\n",
    "            if r in df_plots['agg_region'].unique():\n",
    "                agg_region.append(r)\n",
    "                \n",
    "        fig = px.line(\n",
    "            df_plots, \n",
    "            x='year', y='share vre', \n",
    "            facet_col='agg_region', facet_col_wrap=n, facet_col_spacing=0.05,\n",
    "            title='<b>'+c+'</b>'+' for Europe aggregated in '+d,\n",
    "            color='model',\n",
    "            line_dash='type',\n",
    "            color_discrete_sequence=plot_colors,\n",
    "            labels={'model': 'Model', 'year': \"Year\", 'license': 'License:'},\n",
    "            category_orders={\"agg_region\": agg_region},\n",
    "            height=600, width=1067\n",
    "            )\n",
    "        \n",
    "        if d=='Countries':\n",
    "            fig.update_yaxes(matches=None, showticklabels=True)\n",
    "        for axis in fig.layout:\n",
    "            if type(fig.layout[axis]) == go.layout.YAxis:\n",
    "                fig.layout[axis].title.text = ''\n",
    "\n",
    "        fig.update_layout(\n",
    "            # keep the original annotations and add a list of new annotations:\n",
    "            annotations = list(fig.layout.annotations) + \n",
    "            [go.layout.Annotation(\n",
    "                    x=-0.07,\n",
    "                    y=0.5,\n",
    "                    font=dict(\n",
    "                        size=18\n",
    "                    ),\n",
    "                    showarrow=False,\n",
    "                    text='%',\n",
    "                    textangle=-90,\n",
    "                    xref=\"paper\",\n",
    "                    yref=\"paper\"\n",
    "                )\n",
    "            ]\n",
    "        )\n",
    "        fig.update_layout(legend=dict(\n",
    "            orientation=\"h\",\n",
    "            yanchor=\"top\",\n",
    "            y=-0.25,\n",
    "            xanchor=\"center\",\n",
    "            x=0.5\n",
    "        ))\n",
    "        fig.update_layout(\n",
    "            font = dict(\n",
    "                size=16\n",
    "            )\n",
    "        )\n",
    "        fig.for_each_annotation(lambda a: a.update(text=a.text.split(\"=\")[-1]))\n",
    "\n",
    "        fig.show()\n",
    "\n",
    "        path_html = os.path.join(path_dic, v_path_str+'-'+d+'.html')\n",
    "        fig.write_html(path_html)\n",
    "        path_png = os.path.join(path_dic, v_path_str+'-'+d+'.png')\n",
    "        fig.write_image(path_png)"
   ]
  },
  {
   "cell_type": "markdown",
   "metadata": {},
   "source": [
    "## Create plots of Utilisation"
   ]
  },
  {
   "cell_type": "code",
   "execution_count": null,
   "metadata": {},
   "outputs": [],
   "source": [
    "def get_uti_vars(data, se_var: str, capa_var: str)-> pd.DataFrame:\n",
    "    df_uti = data.filter(variable=[se_var]) \n",
    "    df_uti = df_uti.convert_unit('EJ/yr', to='GWh/yr')\n",
    "    df_uti = df_uti.data.groupby(['year', 'region', 'model']).sum()\n",
    "    df_capa = df_common_variables.filter(variable=[capa_var]).data\n",
    "    df_uti = df_uti.reset_index()\n",
    "    return df_uti.merge(df_capa, how='left', on=['year', 'region', 'model'], suffixes=['_se', '_capa'])"
   ]
  },
  {
   "cell_type": "code",
   "execution_count": null,
   "metadata": {},
   "outputs": [],
   "source": [
    "def df_uti_plot(data: pd.DataFrame, models: List, years: List, region: str, regions: List):\n",
    "    df = data[\n",
    "    (data['region'].isin(regions)) &\n",
    "    (data['model'].isin(models)) &\n",
    "    (data['year'].isin(years)) & \n",
    "    (data['scenario'].isin(['DIAG-C400-lin']))\n",
    "    ]\n",
    "    df['agg_region'] = region\n",
    "    return df"
   ]
  },
  {
   "cell_type": "code",
   "execution_count": null,
   "metadata": {},
   "outputs": [],
   "source": [
    "for v in ['Solar|PV', 'Wind|Offshore', 'Wind|Onshore']:\n",
    "    c = 'Capacity Factor|' + v\n",
    "    v_path_str = c.replace('|', '_')\n",
    "\n",
    "    se_var = 'Secondary Energy|Electricity|' + v\n",
    "    capa_var = 'Capacity|Electricity|' + v\n",
    "\n",
    "    df_uti_vars = get_uti_vars(df_common_variables, se_var, capa_var)\n",
    "\n",
    "    for d in dic_model_reg:\n",
    "        # d='Nine Regions'\n",
    "        n_plots = len(dic_model_reg[d].keys())\n",
    "        if n_plots==2:\n",
    "            n =2\n",
    "        else:\n",
    "            n =  round(n_plots**(1/2)) # math.ceil((len(dic_model_reg[d].keys()))**(1/2))\n",
    "\n",
    "        df = pd.DataFrame()\n",
    "        yrs = {'2050': [2050], '10 year steps': [2010,2020,2030,2040,2050]}\n",
    "\n",
    "        # if d=='Countries':\n",
    "        for r in dic_model_reg[d]:\n",
    "            modls = list(dic_model_reg[d][r])\n",
    "            number_of_model_regions = []\n",
    "            for m in list(dic_model_reg[d][r].keys()):\n",
    "                number_of_model_regions.append(len(dic_model_reg[d][r][m]))\n",
    "            max_n_regs = max(number_of_model_regions)\n",
    "            list_model_reg_str, dic_model_reg_str = model_regions_str(dic_model_reg[d][r])\n",
    "\n",
    "            for m in dic_reg_double_reported:\n",
    "                list_model_reg_str = filter_double_countries(list_model_reg_str, m, dic_reg_double_reported[m])\n",
    "\n",
    "            df = pd.concat([df, df_uti_plot(df_uti_vars, modls, yrs['10 year steps'], r, list_model_reg_str)])\n",
    "            \n",
    "        if not df.empty:\n",
    "            df_plots = df.groupby(['model', 'year', 'agg_region']).sum()\n",
    "            df_plots = df_plots.reset_index()\n",
    "            df_plots['capacity factor'] = (df_plots['value_se'] / (df_plots['value_capa'] * 8760)) * 100\n",
    "            df_plots.loc[df_plots['model'].isin(model_type['IAM']), 'type'] = 'IAM'\n",
    "            df_plots.loc[df_plots['model'].isin(model_type['ESM']), 'type'] = 'ESM'\n",
    "            plot_colors = get_model_colors(list(df_plots['model'].unique()))\n",
    "\n",
    "            agg_region = []\n",
    "            for r in dic_harm_reg[d]:\n",
    "                if r in df_plots['agg_region'].unique():\n",
    "                    agg_region.append(r)\n",
    "                    \n",
    "            fig = px.line(\n",
    "                df_plots, \n",
    "                x='year', y='capacity factor', \n",
    "                facet_col='agg_region', facet_col_wrap=n, facet_col_spacing=0.05,\n",
    "                title='<b>'+c+'</b>'+' for Europe aggregated in '+d,\n",
    "                color='model',\n",
    "                line_dash='type',\n",
    "                color_discrete_sequence=plot_colors,\n",
    "                labels={'model': 'Model', 'year': \"Year\", 'license': 'License:'},\n",
    "                category_orders={\"agg_region\": agg_region},\n",
    "                height=600, width=1067\n",
    "                )\n",
    "            \n",
    "            if d=='Countries':\n",
    "                fig.update_yaxes(matches=None, showticklabels=True)\n",
    "            for axis in fig.layout:\n",
    "                if type(fig.layout[axis]) == go.layout.YAxis:\n",
    "                    fig.layout[axis].title.text = ''\n",
    "\n",
    "            fig.update_layout(\n",
    "                # keep the original annotations and add a list of new annotations:\n",
    "                annotations = list(fig.layout.annotations) + \n",
    "                [go.layout.Annotation(\n",
    "                        x=-0.07,\n",
    "                        y=0.5,\n",
    "                        font=dict(\n",
    "                            size=18\n",
    "                        ),\n",
    "                        showarrow=False,\n",
    "                        text='%',\n",
    "                        textangle=-90,\n",
    "                        xref=\"paper\",\n",
    "                        yref=\"paper\"\n",
    "                    )\n",
    "                ]\n",
    "            )\n",
    "            fig.update_layout(legend=dict(\n",
    "                orientation=\"h\",\n",
    "                yanchor=\"top\",\n",
    "                y=-0.25,\n",
    "                xanchor=\"center\",\n",
    "                x=0.5\n",
    "            ))\n",
    "            fig.update_layout(\n",
    "                font = dict(\n",
    "                    size=16\n",
    "                )\n",
    "            )\n",
    "            fig.for_each_annotation(lambda a: a.update(text=a.text.split(\"=\")[-1]))\n",
    "\n",
    "            # fig.show()\n",
    "\n",
    "            path_html = os.path.join(path_dic, v_path_str+'-'+d+'.html')\n",
    "            fig.write_html(path_html)\n",
    "            path_png = os.path.join(path_dic, v_path_str+'-'+d+'.png')\n",
    "            fig.write_image(path_png)"
   ]
  },
  {
   "cell_type": "code",
   "execution_count": null,
   "metadata": {},
   "outputs": [],
   "source": []
  }
 ],
 "metadata": {
  "kernelspec": {
   "display_name": "Python 3.10.6 ('ecemf_diagnostic_plots')",
   "language": "python",
   "name": "python3"
  },
  "language_info": {
   "codemirror_mode": {
    "name": "ipython",
    "version": 3
   },
   "file_extension": ".py",
   "mimetype": "text/x-python",
   "name": "python",
   "nbconvert_exporter": "python",
   "pygments_lexer": "ipython3",
   "version": "3.10.6"
  },
  "orig_nbformat": 4,
  "vscode": {
   "interpreter": {
    "hash": "90de0a5fa92234352b5b858daa368920ae63efb60744375fba56eabbccc11032"
   }
  }
 },
 "nbformat": 4,
 "nbformat_minor": 2
}
